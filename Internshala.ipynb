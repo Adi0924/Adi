{
  "cells": [
    {
      "cell_type": "markdown",
      "metadata": {
        "id": "view-in-github",
        "colab_type": "text"
      },
      "source": [
        "<a href=\"https://colab.research.google.com/github/Adi0924/Adi/blob/main/Internshala.ipynb\" target=\"_parent\"><img src=\"https://colab.research.google.com/assets/colab-badge.svg\" alt=\"Open In Colab\"/></a>"
      ]
    },
    {
      "cell_type": "code",
      "execution_count": null,
      "metadata": {
        "colab": {
          "base_uri": "https://localhost:8080/"
        },
        "id": "niPCdjTfogB7",
        "outputId": "d4273a9f-527d-4986-cd16-baeea23c9ebe"
      },
      "outputs": [
        {
          "name": "stdout",
          "output_type": "stream",
          "text": [
            "*\n",
            "\n",
            "**\n",
            "\n",
            "***\n",
            "\n",
            "****\n",
            "\n",
            "*****\n",
            "\n"
          ]
        }
      ],
      "source": [
        "for i in range(1,6):\n",
        "  for j in range(1,i+1):\n",
        "    print(\"*\",end=\"\")\n",
        "  print(\"\\n\") "
      ]
    },
    {
      "cell_type": "code",
      "source": [
        "S1 = {1,\"Ravi\",75.50}\n",
        "S1\n",
        "type(S1)"
      ],
      "metadata": {
        "colab": {
          "base_uri": "https://localhost:8080/"
        },
        "id": "7LAfMelCjk0G",
        "outputId": "cf9719ae-b7c1-45e2-d7cd-8f263ef4367d"
      },
      "execution_count": null,
      "outputs": [
        {
          "output_type": "execute_result",
          "data": {
            "text/plain": [
              "set"
            ]
          },
          "metadata": {},
          "execution_count": 2
        }
      ]
    },
    {
      "cell_type": "code",
      "source": [
        "S2 = {10,23,40,23,50,10}\n",
        "S2"
      ],
      "metadata": {
        "colab": {
          "base_uri": "https://localhost:8080/"
        },
        "id": "hIMSjiLuj4hD",
        "outputId": "dbcff5fc-cee2-4e39-b212-4c31ac39796f"
      },
      "execution_count": null,
      "outputs": [
        {
          "output_type": "execute_result",
          "data": {
            "text/plain": [
              "{10, 23, 40, 50}"
            ]
          },
          "metadata": {},
          "execution_count": 3
        }
      ]
    },
    {
      "cell_type": "code",
      "source": [
        "S1 = set({\"Python\",\"Java\",\"C++\"})\n",
        "S1\n",
        "S1.add(\"perl\")\n",
        "S1"
      ],
      "metadata": {
        "colab": {
          "base_uri": "https://localhost:8080/"
        },
        "id": "Au_Xb4mQjxBu",
        "outputId": "533af615-75fe-471e-bd62-a558abe2c4ba"
      },
      "execution_count": null,
      "outputs": [
        {
          "output_type": "execute_result",
          "data": {
            "text/plain": [
              "{'C++', 'Java', 'Python', 'perl'}"
            ]
          },
          "metadata": {},
          "execution_count": 5
        }
      ]
    },
    {
      "cell_type": "code",
      "execution_count": null,
      "metadata": {
        "colab": {
          "background_save": true,
          "base_uri": "https://localhost:8080/"
        },
        "id": "7J_I6tQLwp00",
        "outputId": "5f561572-857b-4066-e7a8-ef93ef10166b"
      },
      "outputs": [
        {
          "name": "stdout",
          "output_type": "stream",
          "text": [
            "14\n",
            "40\n",
            "10000\n"
          ]
        }
      ],
      "source": [
        "a,b = (10,4)\n",
        "print(a+b)\n",
        "print"
      ]
    },
    {
      "cell_type": "code",
      "source": [
        "#update()\n",
        "S1 = {\"Python\",\"Java\",\"C++\"}\n",
        "S1.update([\"C++\",\"Basic\"])\n",
        "S1\n",
        "S1.update([\"Ruby\",\"PHP\"])\n",
        "S1\n",
        "#clear\n",
        "S1.clear()\n",
        "S1"
      ],
      "metadata": {
        "colab": {
          "base_uri": "https://localhost:8080/"
        },
        "id": "Xkd5NNbckWdk",
        "outputId": "35722275-8812-40ed-d6c7-38e6fe2f437c"
      },
      "execution_count": null,
      "outputs": [
        {
          "output_type": "execute_result",
          "data": {
            "text/plain": [
              "set()"
            ]
          },
          "metadata": {},
          "execution_count": 10
        }
      ]
    },
    {
      "cell_type": "code",
      "source": [
        "#Copy()\n",
        "s1 = {\"Python\",\"Java\",\"C++\"}\n",
        "s2=s1.copy()\n",
        "s2"
      ],
      "metadata": {
        "colab": {
          "base_uri": "https://localhost:8080/"
        },
        "id": "Nu1wXYarlQrE",
        "outputId": "c55dcc9f-f634-43e4-826e-876c931f6fe7"
      },
      "execution_count": null,
      "outputs": [
        {
          "output_type": "execute_result",
          "data": {
            "text/plain": [
              "{'C++', 'Java', 'Python'}"
            ]
          },
          "metadata": {},
          "execution_count": 13
        }
      ]
    },
    {
      "cell_type": "code",
      "source": [
        "#discard\n",
        "s1 = {\"Python\",\"Java\",\"C++\"}\n",
        "s1.discard(\"Java\")\n",
        "s1\n",
        "s1.discard(\"SQL\")\n",
        "s1"
      ],
      "metadata": {
        "colab": {
          "base_uri": "https://localhost:8080/"
        },
        "id": "QajzG2fpnEzv",
        "outputId": "6a8d5899-b9f4-4a2f-da0e-01acb9c3d2bf"
      },
      "execution_count": null,
      "outputs": [
        {
          "output_type": "execute_result",
          "data": {
            "text/plain": [
              "{'C++', 'Python'}"
            ]
          },
          "metadata": {},
          "execution_count": 15
        }
      ]
    },
    {
      "cell_type": "code",
      "source": [
        "#remove()\n",
        "s1 = {\"Python\",\"Java\",\"C++\"}\n",
        "s1.remove(\"Python\")\n",
        "s1\n",
        "s1.remove(\"SQL\")"
      ],
      "metadata": {
        "colab": {
          "base_uri": "https://localhost:8080/",
          "height": 200
        },
        "id": "niWXERTspsJs",
        "outputId": "e41dc30c-0ff8-41cb-e3cd-e1dcccc2f0b4"
      },
      "execution_count": null,
      "outputs": [
        {
          "output_type": "error",
          "ename": "KeyError",
          "evalue": "ignored",
          "traceback": [
            "\u001b[0;31m---------------------------------------------------------------------------\u001b[0m",
            "\u001b[0;31mKeyError\u001b[0m                                  Traceback (most recent call last)",
            "\u001b[0;32m<ipython-input-18-497bec67efb6>\u001b[0m in \u001b[0;36m<module>\u001b[0;34m\u001b[0m\n\u001b[1;32m      3\u001b[0m \u001b[0ms1\u001b[0m\u001b[0;34m.\u001b[0m\u001b[0mremove\u001b[0m\u001b[0;34m(\u001b[0m\u001b[0;34m\"Python\"\u001b[0m\u001b[0;34m)\u001b[0m\u001b[0;34m\u001b[0m\u001b[0;34m\u001b[0m\u001b[0m\n\u001b[1;32m      4\u001b[0m \u001b[0ms1\u001b[0m\u001b[0;34m\u001b[0m\u001b[0;34m\u001b[0m\u001b[0m\n\u001b[0;32m----> 5\u001b[0;31m \u001b[0ms1\u001b[0m\u001b[0;34m.\u001b[0m\u001b[0mremove\u001b[0m\u001b[0;34m(\u001b[0m\u001b[0;34m\"SQL\"\u001b[0m\u001b[0;34m)\u001b[0m\u001b[0;34m\u001b[0m\u001b[0;34m\u001b[0m\u001b[0m\n\u001b[0m",
            "\u001b[0;31mKeyError\u001b[0m: 'SQL'"
          ]
        }
      ]
    },
    {
      "cell_type": "code",
      "source": [
        "#union\n",
        "s1 = {1,2,3,4,5}\n",
        "s2 = {4,5,6,7,8}\n",
        "s1|s2\n",
        "s1.union(s2)"
      ],
      "metadata": {
        "colab": {
          "base_uri": "https://localhost:8080/"
        },
        "id": "NKLYyAkMqNKk",
        "outputId": "efed7bd9-1cfd-4919-bcf8-a6ac097e7929"
      },
      "execution_count": null,
      "outputs": [
        {
          "output_type": "execute_result",
          "data": {
            "text/plain": [
              "{1, 2, 3, 4, 5, 6, 7, 8}"
            ]
          },
          "metadata": {},
          "execution_count": 20
        }
      ]
    },
    {
      "cell_type": "code",
      "source": [
        "#Intersection\n",
        "s1 = {1,2,3,4,5}\n",
        "s2 = {4,5,6,7,8}\n",
        "s1&s2"
      ],
      "metadata": {
        "colab": {
          "base_uri": "https://localhost:8080/"
        },
        "id": "34Wocqp5qeEL",
        "outputId": "5ec74b1d-8071-4ccf-f50f-a5370baec040"
      },
      "execution_count": null,
      "outputs": [
        {
          "output_type": "execute_result",
          "data": {
            "text/plain": [
              "{4, 5}"
            ]
          },
          "metadata": {},
          "execution_count": 21
        }
      ]
    },
    {
      "cell_type": "code",
      "source": [
        "#Difference\n",
        "s1 = {1,2,3,4,5}\n",
        "s2 = {4,5,6,7,8}\n",
        "s1-s2\n",
        "s1.difference(s2)\n",
        "s2-s1\n",
        "s2.difference(s1)"
      ],
      "metadata": {
        "id": "m1OVEcNtrcGS",
        "colab": {
          "base_uri": "https://localhost:8080/"
        },
        "outputId": "ec608cac-75c1-488f-955c-62bbd7f3e556"
      },
      "execution_count": null,
      "outputs": [
        {
          "output_type": "execute_result",
          "data": {
            "text/plain": [
              "{6, 7, 8}"
            ]
          },
          "metadata": {},
          "execution_count": 4
        }
      ]
    },
    {
      "cell_type": "code",
      "source": [
        "#Symmetric Difference\n",
        "s1 = {1,2,3,4,5}\n",
        "s2 = {4,5,6,7,8}\n",
        "s1^s2\n",
        "s1.symmetric_difference(s2)\n",
        "s2.symmetric_difference(s1)"
      ],
      "metadata": {
        "colab": {
          "base_uri": "https://localhost:8080/"
        },
        "id": "u_XWXLgJLoQf",
        "outputId": "ab0d5450-85aa-4ead-ebbc-ac7a3d8e7f50"
      },
      "execution_count": null,
      "outputs": [
        {
          "output_type": "execute_result",
          "data": {
            "text/plain": [
              "{1, 2, 3, 6, 7, 8}"
            ]
          },
          "metadata": {},
          "execution_count": 6
        }
      ]
    },
    {
      "cell_type": "code",
      "source": [
        "#Concatenation\n",
        "#List\n",
        "founders = [\"Iron Man\",\"Thor\",\"Ant-Man\",\"Hulk\",\"Wasp\"]\n",
        "recruiters = [\"Captain America\",\"Hawkeye\"]\n",
        "founders + recruiters\n",
        "#Tuple\n",
        "stark = (\"Ned\",\"Catelyn\",\"Brandon\",\"Sansa\",\"Arya\",\"Robb\")\n",
        "mormont = (\"Jeor\",\"Maega\",\"Jorah\",\"Lyanna\")\n",
        "stark + mormont"
      ],
      "metadata": {
        "id": "t_cN5vtxXKSu",
        "colab": {
          "base_uri": "https://localhost:8080/"
        },
        "outputId": "a8040dac-62cc-4d26-93ee-c4efd599ac75"
      },
      "execution_count": 2,
      "outputs": [
        {
          "output_type": "execute_result",
          "data": {
            "text/plain": [
              "('Ned',\n",
              " 'Catelyn',\n",
              " 'Brandon',\n",
              " 'Sansa',\n",
              " 'Arya',\n",
              " 'Robb',\n",
              " 'Jeor',\n",
              " 'Maega',\n",
              " 'Jorah',\n",
              " 'Lyanna')"
            ]
          },
          "metadata": {},
          "execution_count": 2
        }
      ]
    },
    {
      "cell_type": "code",
      "source": [
        "#Repetition\n",
        "#List\n",
        "dna = [\"A\",\"G\",\"T\",\"C\"]\n",
        "dna * 3\n",
        "#Tuple\n",
        "glucose = (\"C6\",\"H12\",\"O6\")\n",
        "glucose * 6"
      ],
      "metadata": {
        "colab": {
          "base_uri": "https://localhost:8080/"
        },
        "id": "iYFH5H9YIknx",
        "outputId": "1dbe6b2f-8849-4cfa-8aed-28a73fd7ef62"
      },
      "execution_count": 4,
      "outputs": [
        {
          "output_type": "execute_result",
          "data": {
            "text/plain": [
              "('C6',\n",
              " 'H12',\n",
              " 'O6',\n",
              " 'C6',\n",
              " 'H12',\n",
              " 'O6',\n",
              " 'C6',\n",
              " 'H12',\n",
              " 'O6',\n",
              " 'C6',\n",
              " 'H12',\n",
              " 'O6',\n",
              " 'C6',\n",
              " 'H12',\n",
              " 'O6',\n",
              " 'C6',\n",
              " 'H12',\n",
              " 'O6')"
            ]
          },
          "metadata": {},
          "execution_count": 4
        }
      ]
    },
    {
      "cell_type": "code",
      "source": [
        "#Slice\n",
        "#List\n",
        "founders = [\"Iron Man\",\"Thor\",\"Ant-Man\",\"Hulk\",\"Wasp\"]\n",
        "founders[3]\n",
        "founders[-3]\n",
        "#Tuple\n",
        "stark = (\"Ned\",\"Catelyn\",\"Brandon\",\"Sansa\",\"Arya\",\"Robb\")\n",
        "stark[2]\n",
        "stark[-1]"
      ],
      "metadata": {
        "colab": {
          "base_uri": "https://localhost:8080/",
          "height": 35
        },
        "id": "AvKIri5wKCGS",
        "outputId": "fab2f3b5-e58e-4325-ff81-e50904e97b66"
      },
      "execution_count": 8,
      "outputs": [
        {
          "output_type": "execute_result",
          "data": {
            "text/plain": [
              "'Robb'"
            ],
            "application/vnd.google.colaboratory.intrinsic+json": {
              "type": "string"
            }
          },
          "metadata": {},
          "execution_count": 8
        }
      ]
    },
    {
      "cell_type": "code",
      "source": [
        "#Range Slice\n",
        "#List\n",
        "avengers = [\"Iron Man\",\"Thor\",\"Ant-Man\",\"Hulk\",\"Wasp\",\"Captain America\",\"Hawkeye\"]\n",
        "avengers [2:5]\n",
        "avengers [3:]\n",
        "avengers[:3]\n",
        "#Tuple\n",
        "got = (\"Ned\",\"Catelyn\",\"Brandon\",\"Sansa\",\"Arya\",\"Robb\",\"Jeor\",\"Maege\",\"Jorah\",\"Lyan\")\n",
        "got [1:4]\n",
        "got [3:]\n",
        "got[4:]"
      ],
      "metadata": {
        "colab": {
          "base_uri": "https://localhost:8080/"
        },
        "id": "KI1YHEhWL8ha",
        "outputId": "959069ba-2ca9-41ba-f98f-f86e45475d46"
      },
      "execution_count": 15,
      "outputs": [
        {
          "output_type": "execute_result",
          "data": {
            "text/plain": [
              "('Arya', 'Robb', 'Jeor', 'Maege', 'Jorah', 'Lyan')"
            ]
          },
          "metadata": {},
          "execution_count": 15
        }
      ]
    },
    {
      "cell_type": "code",
      "source": [
        "#In Membership\n",
        "#List\n",
        "avengers= [\"Iron Man\",\"Thor\",\"Ant-Man\",\"Hulk\",\"wasp\",\"Captain America\",\"Hawkeye\"]\n",
        "\"wasp\" in avengers\n",
        "\"Black widow\" in avengers\n"
      ],
      "metadata": {
        "colab": {
          "base_uri": "https://localhost:8080/"
        },
        "id": "NCROHoMcQ_va",
        "outputId": "d4043413-f329-4a8f-b058-64c527b69517"
      },
      "execution_count": 17,
      "outputs": [
        {
          "output_type": "execute_result",
          "data": {
            "text/plain": [
              "False"
            ]
          },
          "metadata": {},
          "execution_count": 17
        }
      ]
    }
  ],
  "metadata": {
    "colab": {
      "provenance": [],
      "authorship_tag": "ABX9TyOoAdm7DH2TRFNtGktAf1lD",
      "include_colab_link": true
    },
    "kernelspec": {
      "display_name": "Python 3",
      "name": "python3"
    },
    "language_info": {
      "name": "python"
    }
  },
  "nbformat": 4,
  "nbformat_minor": 0
}